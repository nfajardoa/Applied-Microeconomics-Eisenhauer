{
 "cells": [
  {
   "cell_type": "code",
   "execution_count": 1,
   "metadata": {},
   "outputs": [],
   "source": [
    "import numpy as np\n",
    "import matplotlib.pyplot as plt\n",
    "import seaborn as sns\n",
    "import pandas as pd\n",
    "#plt.style.use(\"ggplot\")\n",
    "#%matplotlib inline"
   ]
  },
  {
   "cell_type": "markdown",
   "metadata": {},
   "source": [
    "## Import data"
   ]
  },
  {
   "cell_type": "code",
   "execution_count": 2,
   "metadata": {},
   "outputs": [],
   "source": [
    "# Dataset \n",
    "dataset = ['ppathl',\n",
    "           'bioparen',\n",
    "           'biojob'\n",
    "          ]"
   ]
  },
  {
   "cell_type": "code",
   "execution_count": 3,
   "metadata": {},
   "outputs": [],
   "source": [
    "#Variable used for each dataset\n",
    "vars_set = pd.read_csv(\"data/Test_varset.csv\")\n",
    "varset = [[] for _ in range(3)]\n",
    "for i, data in enumerate(dataset):\n",
    "    sub = vars_set[vars_set['dataset'] == data]\n",
    "    varset[i] = sub['variable'].tolist()"
   ]
  },
  {
   "cell_type": "code",
   "execution_count": 4,
   "metadata": {},
   "outputs": [],
   "source": [
    "ppathl =  pd.read_csv(\"data/ppathl.csv\", usecols=varset[0])\n",
    "#biobirth = pd.read_csv(\"data/biobirth.csv\", usecols=varset[1])\n",
    "bioparen = pd.read_csv(\"data/bioparen.csv\", usecols=varset[1])\n",
    "#bioimmig = pd.read_csv(\"data/bioimmig.csv\", usecols=varset[3]) #The variables contained in BIOIMMIG relate to foreigners in (and migrants to) Germany.\n",
    "biojob = pd.read_csv(\"data/biojob.csv\", usecols=varset[2])"
   ]
  },
  {
   "cell_type": "markdown",
   "metadata": {},
   "source": [
    "## Merge data"
   ]
  },
  {
   "cell_type": "code",
   "execution_count": 5,
   "metadata": {},
   "outputs": [
    {
     "name": "stdout",
     "output_type": "stream",
     "text": [
      "dfMerge:(876791, 24)\n"
     ]
    }
   ],
   "source": [
    "# inner merge with parents info\n",
    "ppathl.rename(columns={\"syear\": \"bioyear\"})\n",
    "dfMerge = pd.merge(ppathl,bioparen,on=['cid','pid'],how='inner')\n",
    "print(\"dfMerge:\" + str(dfMerge.shape))"
   ]
  },
  {
   "cell_type": "code",
   "execution_count": 6,
   "metadata": {},
   "outputs": [
    {
     "data": {
      "text/html": [
       "<div>\n",
       "<style scoped>\n",
       "    .dataframe tbody tr th:only-of-type {\n",
       "        vertical-align: middle;\n",
       "    }\n",
       "\n",
       "    .dataframe tbody tr th {\n",
       "        vertical-align: top;\n",
       "    }\n",
       "\n",
       "    .dataframe thead th {\n",
       "        text-align: right;\n",
       "    }\n",
       "</style>\n",
       "<table border=\"1\" class=\"dataframe\">\n",
       "  <thead>\n",
       "    <tr style=\"text-align: right;\">\n",
       "      <th></th>\n",
       "      <th>cid</th>\n",
       "      <th>pid</th>\n",
       "      <th>syear</th>\n",
       "      <th>sex</th>\n",
       "      <th>gebjahr</th>\n",
       "      <th>erstbefr</th>\n",
       "      <th>psample</th>\n",
       "      <th>letztbef</th>\n",
       "      <th>immiyear</th>\n",
       "      <th>germborn</th>\n",
       "      <th>corigin</th>\n",
       "      <th>migback</th>\n",
       "      <th>phrf</th>\n",
       "      <th>phrf0</th>\n",
       "      <th>phrf1</th>\n",
       "    </tr>\n",
       "  </thead>\n",
       "  <tbody>\n",
       "    <tr>\n",
       "      <th>0</th>\n",
       "      <td>19</td>\n",
       "      <td>101</td>\n",
       "      <td>1984</td>\n",
       "      <td>1</td>\n",
       "      <td>1930</td>\n",
       "      <td>1984</td>\n",
       "      <td>1</td>\n",
       "      <td>1989</td>\n",
       "      <td>-2</td>\n",
       "      <td>1</td>\n",
       "      <td>1</td>\n",
       "      <td>1</td>\n",
       "      <td>5020.66</td>\n",
       "      <td>0.0</td>\n",
       "      <td>5020.66</td>\n",
       "    </tr>\n",
       "    <tr>\n",
       "      <th>1</th>\n",
       "      <td>19</td>\n",
       "      <td>101</td>\n",
       "      <td>1985</td>\n",
       "      <td>1</td>\n",
       "      <td>1930</td>\n",
       "      <td>1984</td>\n",
       "      <td>1</td>\n",
       "      <td>1989</td>\n",
       "      <td>-2</td>\n",
       "      <td>1</td>\n",
       "      <td>1</td>\n",
       "      <td>1</td>\n",
       "      <td>5068.29</td>\n",
       "      <td>0.0</td>\n",
       "      <td>5068.29</td>\n",
       "    </tr>\n",
       "    <tr>\n",
       "      <th>2</th>\n",
       "      <td>19</td>\n",
       "      <td>101</td>\n",
       "      <td>1986</td>\n",
       "      <td>1</td>\n",
       "      <td>1930</td>\n",
       "      <td>1984</td>\n",
       "      <td>1</td>\n",
       "      <td>1989</td>\n",
       "      <td>-2</td>\n",
       "      <td>1</td>\n",
       "      <td>1</td>\n",
       "      <td>1</td>\n",
       "      <td>5137.46</td>\n",
       "      <td>0.0</td>\n",
       "      <td>5137.46</td>\n",
       "    </tr>\n",
       "    <tr>\n",
       "      <th>3</th>\n",
       "      <td>19</td>\n",
       "      <td>101</td>\n",
       "      <td>1987</td>\n",
       "      <td>1</td>\n",
       "      <td>1930</td>\n",
       "      <td>1984</td>\n",
       "      <td>1</td>\n",
       "      <td>1989</td>\n",
       "      <td>-2</td>\n",
       "      <td>1</td>\n",
       "      <td>1</td>\n",
       "      <td>1</td>\n",
       "      <td>5511.95</td>\n",
       "      <td>0.0</td>\n",
       "      <td>5511.95</td>\n",
       "    </tr>\n",
       "    <tr>\n",
       "      <th>4</th>\n",
       "      <td>19</td>\n",
       "      <td>101</td>\n",
       "      <td>1988</td>\n",
       "      <td>1</td>\n",
       "      <td>1930</td>\n",
       "      <td>1984</td>\n",
       "      <td>1</td>\n",
       "      <td>1989</td>\n",
       "      <td>-2</td>\n",
       "      <td>1</td>\n",
       "      <td>1</td>\n",
       "      <td>1</td>\n",
       "      <td>9068.37</td>\n",
       "      <td>0.0</td>\n",
       "      <td>9068.37</td>\n",
       "    </tr>\n",
       "    <tr>\n",
       "      <th>5</th>\n",
       "      <td>19</td>\n",
       "      <td>101</td>\n",
       "      <td>1989</td>\n",
       "      <td>1</td>\n",
       "      <td>1930</td>\n",
       "      <td>1984</td>\n",
       "      <td>1</td>\n",
       "      <td>1989</td>\n",
       "      <td>-2</td>\n",
       "      <td>1</td>\n",
       "      <td>1</td>\n",
       "      <td>1</td>\n",
       "      <td>9680.75</td>\n",
       "      <td>0.0</td>\n",
       "      <td>9680.75</td>\n",
       "    </tr>\n",
       "    <tr>\n",
       "      <th>6</th>\n",
       "      <td>19</td>\n",
       "      <td>101</td>\n",
       "      <td>1990</td>\n",
       "      <td>1</td>\n",
       "      <td>1930</td>\n",
       "      <td>1984</td>\n",
       "      <td>1</td>\n",
       "      <td>1989</td>\n",
       "      <td>-2</td>\n",
       "      <td>1</td>\n",
       "      <td>1</td>\n",
       "      <td>1</td>\n",
       "      <td>0.00</td>\n",
       "      <td>0.0</td>\n",
       "      <td>0.00</td>\n",
       "    </tr>\n",
       "    <tr>\n",
       "      <th>7</th>\n",
       "      <td>19</td>\n",
       "      <td>102</td>\n",
       "      <td>1984</td>\n",
       "      <td>2</td>\n",
       "      <td>1940</td>\n",
       "      <td>1984</td>\n",
       "      <td>1</td>\n",
       "      <td>1989</td>\n",
       "      <td>-2</td>\n",
       "      <td>1</td>\n",
       "      <td>1</td>\n",
       "      <td>1</td>\n",
       "      <td>4777.63</td>\n",
       "      <td>0.0</td>\n",
       "      <td>4777.63</td>\n",
       "    </tr>\n",
       "    <tr>\n",
       "      <th>8</th>\n",
       "      <td>19</td>\n",
       "      <td>102</td>\n",
       "      <td>1985</td>\n",
       "      <td>2</td>\n",
       "      <td>1940</td>\n",
       "      <td>1984</td>\n",
       "      <td>1</td>\n",
       "      <td>1989</td>\n",
       "      <td>-2</td>\n",
       "      <td>1</td>\n",
       "      <td>1</td>\n",
       "      <td>1</td>\n",
       "      <td>5621.63</td>\n",
       "      <td>0.0</td>\n",
       "      <td>5621.63</td>\n",
       "    </tr>\n",
       "    <tr>\n",
       "      <th>9</th>\n",
       "      <td>19</td>\n",
       "      <td>102</td>\n",
       "      <td>1986</td>\n",
       "      <td>2</td>\n",
       "      <td>1940</td>\n",
       "      <td>1984</td>\n",
       "      <td>1</td>\n",
       "      <td>1989</td>\n",
       "      <td>-2</td>\n",
       "      <td>1</td>\n",
       "      <td>1</td>\n",
       "      <td>1</td>\n",
       "      <td>5629.61</td>\n",
       "      <td>0.0</td>\n",
       "      <td>5629.61</td>\n",
       "    </tr>\n",
       "  </tbody>\n",
       "</table>\n",
       "</div>"
      ],
      "text/plain": [
       "   cid  pid  syear  sex  gebjahr  erstbefr  psample  letztbef  immiyear  \\\n",
       "0   19  101   1984    1     1930      1984        1      1989        -2   \n",
       "1   19  101   1985    1     1930      1984        1      1989        -2   \n",
       "2   19  101   1986    1     1930      1984        1      1989        -2   \n",
       "3   19  101   1987    1     1930      1984        1      1989        -2   \n",
       "4   19  101   1988    1     1930      1984        1      1989        -2   \n",
       "5   19  101   1989    1     1930      1984        1      1989        -2   \n",
       "6   19  101   1990    1     1930      1984        1      1989        -2   \n",
       "7   19  102   1984    2     1940      1984        1      1989        -2   \n",
       "8   19  102   1985    2     1940      1984        1      1989        -2   \n",
       "9   19  102   1986    2     1940      1984        1      1989        -2   \n",
       "\n",
       "   germborn  corigin  migback     phrf  phrf0    phrf1  \n",
       "0         1        1        1  5020.66    0.0  5020.66  \n",
       "1         1        1        1  5068.29    0.0  5068.29  \n",
       "2         1        1        1  5137.46    0.0  5137.46  \n",
       "3         1        1        1  5511.95    0.0  5511.95  \n",
       "4         1        1        1  9068.37    0.0  9068.37  \n",
       "5         1        1        1  9680.75    0.0  9680.75  \n",
       "6         1        1        1     0.00    0.0     0.00  \n",
       "7         1        1        1  4777.63    0.0  4777.63  \n",
       "8         1        1        1  5621.63    0.0  5621.63  \n",
       "9         1        1        1  5629.61    0.0  5629.61  "
      ]
     },
     "execution_count": 6,
     "metadata": {},
     "output_type": "execute_result"
    }
   ],
   "source": [
    "ppathl.head(10)\n"
   ]
  },
  {
   "cell_type": "code",
   "execution_count": 9,
   "metadata": {},
   "outputs": [
    {
     "name": "stdout",
     "output_type": "stream",
     "text": [
      "dfMerge2:(83552, 47)\n"
     ]
    }
   ],
   "source": [
    "dfMerge2 = pd.merge(dfMerge,biojob,on=['cid','pid','bioyear'],how='inner')\n",
    "print(\"dfMerge2:\" + str(dfMerge2.shape))"
   ]
  },
  {
   "cell_type": "code",
   "execution_count": 8,
   "metadata": {},
   "outputs": [],
   "source": [
    "dfMerge2['bioage'] = dfMerge2['bioyear'] - dfMerge2['gebjahr']"
   ]
  },
  {
   "cell_type": "code",
   "execution_count": 9,
   "metadata": {},
   "outputs": [
    {
     "data": {
      "text/plain": [
       "1    60544\n",
       "2    25214\n",
       "3     6032\n",
       "Name: migback, dtype: int64"
      ]
     },
     "execution_count": 9,
     "metadata": {},
     "output_type": "execute_result"
    }
   ],
   "source": [
    "dfMerge2['migback'].value_counts()"
   ]
  },
  {
   "cell_type": "code",
   "execution_count": 22,
   "metadata": {},
   "outputs": [
    {
     "data": {
      "text/plain": [
       "(6032, 47)"
      ]
     },
     "execution_count": 22,
     "metadata": {},
     "output_type": "execute_result"
    }
   ],
   "source": [
    "Gen2 = dfMerge2[dfMerge2['migback']==3]\n",
    "Gen2.shape"
   ]
  },
  {
   "cell_type": "code",
   "execution_count": 25,
   "metadata": {},
   "outputs": [
    {
     "data": {
      "text/plain": [
       "2    3080\n",
       "1    2952\n",
       "Name: sex, dtype: int64"
      ]
     },
     "execution_count": 25,
     "metadata": {},
     "output_type": "execute_result"
    }
   ],
   "source": [
    "Gen2['sex'].value_counts()"
   ]
  },
  {
   "cell_type": "code",
   "execution_count": 20,
   "metadata": {},
   "outputs": [
    {
     "data": {
      "text/plain": [
       "forigin  morigin\n",
       " 2        2         958\n",
       "-2       -2         843\n",
       " 1        1         452\n",
       " 5        5         259\n",
       " 4        4         216\n",
       " 5        1         195\n",
       " 22       22        130\n",
       " 2        1          94\n",
       " 1        22         90\n",
       " 6        6          83\n",
       " 140      140        71\n",
       " 22       1          67\n",
       " 119      119        60\n",
       " 120      120        58\n",
       " 10       1          58\n",
       " 3        3          58\n",
       " 18       1          56\n",
       " 74       74         53\n",
       " 4        1          52\n",
       " 32       32         49\n",
       " 1        2          49\n",
       " 165      165        43\n",
       " 6        1          43\n",
       " 1        10         42\n",
       "          5          41\n",
       "-2        1          39\n",
       " 11       1          36\n",
       " 21       21         34\n",
       "-2        2          31\n",
       " 1        31         31\n",
       "dtype: int64"
      ]
     },
     "execution_count": 20,
     "metadata": {},
     "output_type": "execute_result"
    }
   ],
   "source": [
    "Gen2[['forigin','morigin']].value_counts().head(30) "
   ]
  },
  {
   "cell_type": "code",
   "execution_count": 14,
   "metadata": {},
   "outputs": [
    {
     "data": {
      "text/plain": [
       " 1    1162\n",
       "-5     974\n",
       " 4     704\n",
       " 6     689\n",
       "-1     649\n",
       " 2     607\n",
       "-2     484\n",
       " 5     344\n",
       " 3     299\n",
       " 7     116\n",
       "-3       4\n",
       "Name: freli, dtype: int64"
      ]
     },
     "execution_count": 14,
     "metadata": {},
     "output_type": "execute_result"
    }
   ],
   "source": [
    "Gen2['freli','forigin','morigin'].value_counts()"
   ]
  },
  {
   "cell_type": "code",
   "execution_count": 11,
   "metadata": {},
   "outputs": [
    {
     "data": {
      "text/plain": [
       "(5580, 47)"
      ]
     },
     "execution_count": 11,
     "metadata": {},
     "output_type": "execute_result"
    }
   ],
   "source": [
    "# Father or mother immigrant\n",
    "Gen2 = Gen2[(Gen2['morigin']!=1)|(Gen2['forigin']!=1)]\n",
    "Gen2.shape"
   ]
  },
  {
   "cell_type": "code",
   "execution_count": 12,
   "metadata": {},
   "outputs": [],
   "source": [
    "#excluse whose parents country of origin are German \n",
    "Gen3 = Gen2[(Gen2['morigin']==1)&(Gen2['forigin']==1)]"
   ]
  },
  {
   "cell_type": "code",
   "execution_count": 13,
   "metadata": {},
   "outputs": [
    {
     "data": {
      "text/plain": [
       "forigin  morigin\n",
       " 2        2         958\n",
       "-2       -2         843\n",
       " 5        5         259\n",
       " 4        4         216\n",
       " 5        1         195\n",
       "                   ... \n",
       " 28       22          1\n",
       "          11          1\n",
       "         -2           1\n",
       " 26       122         1\n",
       "-8       -8           1\n",
       "Length: 449, dtype: int64"
      ]
     },
     "execution_count": 13,
     "metadata": {},
     "output_type": "execute_result"
    }
   ],
   "source": [
    "Gen2[['forigin','morigin']].value_counts() "
   ]
  },
  {
   "cell_type": "code",
   "execution_count": 14,
   "metadata": {},
   "outputs": [
    {
     "data": {
      "text/plain": [
       "(array([2731.,  691.,  527.,  605.,  369.,  259.,  142.,  122.,   58.,\n",
       "          35.,   15.,   10.,    8.,    5.,    3.]),\n",
       " array([15.        , 20.13333333, 25.26666667, 30.4       , 35.53333333,\n",
       "        40.66666667, 45.8       , 50.93333333, 56.06666667, 61.2       ,\n",
       "        66.33333333, 71.46666667, 76.6       , 81.73333333, 86.86666667,\n",
       "        92.        ]),\n",
       " <BarContainer object of 15 artists>)"
      ]
     },
     "execution_count": 14,
     "metadata": {},
     "output_type": "execute_result"
    },
    {
     "data": {
      "image/png": "[encoded data removed]",
      "text/plain": [
       "<Figure size 432x288 with 1 Axes>"
      ]
     },
     "metadata": {
      "needs_background": "light"
     },
     "output_type": "display_data"
    }
   ],
   "source": [
    "plt.hist(Gen2['bioage'],bins=15)"
   ]
  },
  {
   "cell_type": "code",
   "execution_count": 17,
   "metadata": {},
   "outputs": [
    {
     "data": {
      "text/plain": [
       "fjwhite  fjblue  fjselfe  fjcivs\n",
       "-2.0     -2.0    -2.0     -2.0      1774\n",
       "-1.0     -1.0    -1.0     -1.0      1560\n",
       " 30.0    -2.0    -2.0     -2.0       439\n",
       " 20.0    -2.0    -2.0     -2.0       341\n",
       "-2.0      11.0   -2.0     -2.0       266\n",
       "          20.0   -2.0     -2.0       260\n",
       " 10.0    -2.0    -2.0     -2.0       245\n",
       "-2.0      12.0   -2.0     -2.0       220\n",
       " 40.0    -2.0    -2.0     -2.0       114\n",
       " 22.0    -2.0    -2.0     -2.0        31\n",
       "-2.0     -2.0     30.0    -2.0        24\n",
       " 21.0    -2.0    -2.0     -2.0        16\n",
       "-2.0     -2.0     20.0    -2.0        13\n",
       "                  40.0    -2.0        11\n",
       "                 -2.0      30.0       11\n",
       "                           20.0       11\n",
       "                           40.0        6\n",
       "          40.0   -2.0     -2.0         5\n",
       "         -2.0    -2.0      10.0        3\n",
       "dtype: int64"
      ]
     },
     "execution_count": 17,
     "metadata": {},
     "output_type": "execute_result"
    }
   ],
   "source": [
    "Gen2[['fjwhite','fjblue','fjselfe','fjcivs']].value_counts()"
   ]
  },
  {
   "cell_type": "code",
   "execution_count": 18,
   "metadata": {},
   "outputs": [
    {
     "data": {
      "text/plain": [
       "fjwhite  fjblue  fjselfe  fjcivs\n",
       "-1.0     -1.0    -1.0     -1.0      769\n",
       " 30.0    -2.0    -2.0     -2.0      370\n",
       " 20.0    -2.0    -2.0     -2.0      289\n",
       "-2.0      20.0   -2.0     -2.0      232\n",
       " 10.0    -2.0    -2.0     -2.0      190\n",
       "-2.0      11.0   -2.0     -2.0      185\n",
       "         -2.0    -2.0     -2.0      136\n",
       "          12.0   -2.0     -2.0      131\n",
       " 40.0    -2.0    -2.0     -2.0       92\n",
       "-2.0     -2.0     30.0    -2.0       17\n",
       "                  20.0    -2.0       12\n",
       "                  40.0    -2.0        9\n",
       "                 -2.0      20.0       8\n",
       "                           30.0       7\n",
       "                           40.0       6\n",
       "                           10.0       2\n",
       "dtype: int64"
      ]
     },
     "execution_count": 18,
     "metadata": {},
     "output_type": "execute_result"
    }
   ],
   "source": [
    "Gen2_wk[['fjwhite','fjblue','fjselfe','fjcivs']].value_counts()"
   ]
  },
  {
   "cell_type": "code",
   "execution_count": 19,
   "metadata": {},
   "outputs": [
    {
     "data": {
      "text/plain": [
       "forigin  morigin\n",
       "-2       -2         796\n",
       " 2        2         416\n",
       " 5        1         109\n",
       "          5          88\n",
       " 4        4          87\n",
       "                   ... \n",
       " 38       38          1\n",
       " 36       36          1\n",
       " 32       132         1\n",
       "          77          1\n",
       " 28       32          1\n",
       "Length: 313, dtype: int64"
      ]
     },
     "execution_count": 19,
     "metadata": {},
     "output_type": "execute_result"
    }
   ],
   "source": [
    "Gen2_wk[['forigin','morigin']].value_counts() "
   ]
  },
  {
   "cell_type": "markdown",
   "metadata": {},
   "source": [
    "## Direct migration background"
   ]
  },
  {
   "cell_type": "code",
   "execution_count": 20,
   "metadata": {},
   "outputs": [
    {
     "data": {
      "text/plain": [
       "(25214, 47)"
      ]
     },
     "execution_count": 20,
     "metadata": {},
     "output_type": "execute_result"
    }
   ],
   "source": [
    "Direct_mig = dfMerge2[dfMerge2['migback']==2]\n",
    "Direct_mig.shape"
   ]
  },
  {
   "cell_type": "code",
   "execution_count": 21,
   "metadata": {},
   "outputs": [
    {
     "data": {
      "text/plain": [
       "fjwhite  fjblue  fjselfe  fjcivs\n",
       "-1.0     -1.0    -1.0     -1.0      13416\n",
       "-2.0     -2.0    -2.0     -2.0       3554\n",
       "          11.0   -2.0     -2.0       1631\n",
       "          20.0   -2.0     -2.0       1365\n",
       "          12.0   -2.0     -2.0       1286\n",
       " 30.0    -2.0    -2.0     -2.0        848\n",
       " 20.0    -2.0    -2.0     -2.0        613\n",
       " 40.0    -2.0    -2.0     -2.0        286\n",
       " 10.0    -2.0    -2.0     -2.0        267\n",
       "-2.0      40.0   -2.0     -2.0        149\n",
       "          10.0   -2.0     -2.0        120\n",
       "         -2.0     30.0    -2.0         72\n",
       "                  40.0    -2.0         62\n",
       "                  10.0    -2.0         41\n",
       "                 -2.0      20.0        34\n",
       "                           30.0        32\n",
       "                  20.0    -2.0         32\n",
       "                 -2.0      10.0        29\n",
       "                           40.0        17\n",
       " 22.0    -2.0    -2.0     -2.0         16\n",
       " 21.0    -2.0    -2.0     -2.0          8\n",
       "-2.0      31.0   -2.0     -2.0          4\n",
       " 50.0    -2.0    -2.0     -2.0          4\n",
       "-2.0      30.0   -2.0     -2.0          3\n",
       "          32.0   -2.0     -2.0          3\n",
       "dtype: int64"
      ]
     },
     "execution_count": 21,
     "metadata": {},
     "output_type": "execute_result"
    }
   ],
   "source": [
    "Direct_mig[['fjwhite','fjblue','fjselfe','fjcivs']].value_counts()"
   ]
  },
  {
   "cell_type": "code",
   "execution_count": 26,
   "metadata": {},
   "outputs": [],
   "source": [
    "Direct_mig_age = Direct_mig[Direct_mig['bioage']<100]"
   ]
  },
  {
   "cell_type": "code",
   "execution_count": 27,
   "metadata": {},
   "outputs": [
    {
     "data": {
      "text/plain": [
       "(array([3151., 3047., 4243., 3737., 3830., 2453., 2017., 1187.,  847.,\n",
       "         307.,  221.,   98.,   53.,   16.,    6.]),\n",
       " array([15.        , 20.46666667, 25.93333333, 31.4       , 36.86666667,\n",
       "        42.33333333, 47.8       , 53.26666667, 58.73333333, 64.2       ,\n",
       "        69.66666667, 75.13333333, 80.6       , 86.06666667, 91.53333333,\n",
       "        97.        ]),\n",
       " <BarContainer object of 15 artists>)"
      ]
     },
     "execution_count": 27,
     "metadata": {},
     "output_type": "execute_result"
    },
    {
     "data": {
      "image/png": "[encoded data removed]",
      "text/plain": [
       "<Figure size 432x288 with 1 Axes>"
      ]
     },
     "metadata": {
      "needs_background": "light"
     },
     "output_type": "display_data"
    }
   ],
   "source": [
    "plt.hist(Direct_mig_age['bioage'],bins=15)"
   ]
  },
  {
   "cell_type": "markdown",
   "metadata": {},
   "source": [
    "## No Migration background"
   ]
  },
  {
   "cell_type": "code",
   "execution_count": 22,
   "metadata": {},
   "outputs": [
    {
     "data": {
      "text/plain": [
       "(60544, 47)"
      ]
     },
     "execution_count": 22,
     "metadata": {},
     "output_type": "execute_result"
    }
   ],
   "source": [
    "Natives = dfMerge2[dfMerge2['migback']==1]\n",
    "Natives.shape"
   ]
  },
  {
   "cell_type": "code",
   "execution_count": 23,
   "metadata": {},
   "outputs": [
    {
     "data": {
      "text/plain": [
       "fjwhite  fjblue  fjselfe  fjcivs\n",
       "-1.0     -1.0    -1.0     -1.0      12077\n",
       "-2.0      20.0   -2.0     -2.0      10721\n",
       " 30.0    -2.0    -2.0     -2.0       7289\n",
       "-2.0     -2.0    -2.0     -2.0       6979\n",
       " 20.0    -2.0    -2.0     -2.0       6142\n",
       "-2.0      12.0   -2.0     -2.0       2591\n",
       "          11.0   -2.0     -2.0       2464\n",
       " 40.0    -2.0    -2.0     -2.0       2120\n",
       " 10.0    -2.0    -2.0     -2.0       1268\n",
       "-2.0     -2.0    -2.0      30.0       507\n",
       "                           20.0       502\n",
       "                           40.0       290\n",
       "                  30.0    -2.0        231\n",
       "                  40.0    -2.0        222\n",
       "                 -2.0      10.0       211\n",
       "          10.0   -2.0     -2.0        181\n",
       "         -2.0     20.0    -2.0        179\n",
       "                  10.0    -2.0        144\n",
       " 22.0    -2.0    -2.0     -2.0         85\n",
       " 21.0    -2.0    -2.0     -2.0         38\n",
       " 50.0    -2.0    -2.0     -2.0         19\n",
       "-2.0      31.0   -2.0     -2.0         17\n",
       "          40.0   -2.0     -2.0         13\n",
       "          30.0   -2.0     -2.0         11\n",
       "          32.0   -2.0     -2.0          8\n",
       " 20.0     20.0   -2.0     -2.0          1\n",
       "dtype: int64"
      ]
     },
     "execution_count": 23,
     "metadata": {},
     "output_type": "execute_result"
    }
   ],
   "source": [
    "Natives[['fjwhite','fjblue','fjselfe','fjcivs']].value_counts()"
   ]
  },
  {
   "cell_type": "code",
   "execution_count": 28,
   "metadata": {},
   "outputs": [
    {
     "data": {
      "text/plain": [
       "(array([1.027e+04, 5.524e+03, 6.132e+03, 6.318e+03, 6.874e+03, 6.419e+03,\n",
       "        4.980e+03, 3.567e+03, 3.886e+03, 3.015e+03, 2.049e+03, 1.049e+03,\n",
       "        3.840e+02, 7.300e+01, 4.000e+00]),\n",
       " array([ 14.        ,  19.86666667,  25.73333333,  31.6       ,\n",
       "         37.46666667,  43.33333333,  49.2       ,  55.06666667,\n",
       "         60.93333333,  66.8       ,  72.66666667,  78.53333333,\n",
       "         84.4       ,  90.26666667,  96.13333333, 102.        ]),\n",
       " <BarContainer object of 15 artists>)"
      ]
     },
     "execution_count": 28,
     "metadata": {},
     "output_type": "execute_result"
    },
    {
     "data": {
      "image/png": "[encoded data removed]",
      "text/plain": [
       "<Figure size 432x288 with 1 Axes>"
      ]
     },
     "metadata": {
      "needs_background": "light"
     },
     "output_type": "display_data"
    }
   ],
   "source": [
    "plt.hist(Natives['bioage'],bins=15)"
   ]
  },
  {
   "cell_type": "code",
   "execution_count": null,
   "metadata": {},
   "outputs": [],
   "source": []
  }
 ],
 "metadata": {
  "kernelspec": {
   "display_name": "Python 3",
   "language": "python",
   "name": "python3"
  },
  "language_info": {
   "codemirror_mode": {
    "name": "ipython",
    "version": 3
   },
   "file_extension": ".py",
   "mimetype": "text/x-python",
   "name": "python",
   "nbconvert_exporter": "python",
   "pygments_lexer": "ipython3",
   "version": "3.8.5"
  }
 },
 "nbformat": 4,
 "nbformat_minor": 4
}
