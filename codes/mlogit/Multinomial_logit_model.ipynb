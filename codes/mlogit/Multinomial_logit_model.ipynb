{
 "cells": [
  {
   "cell_type": "markdown",
   "metadata": {},
   "source": [
    "# Multinomial logit"
   ]
  },
  {
   "cell_type": "code",
   "execution_count": 1,
   "metadata": {},
   "outputs": [],
   "source": [
    "import pandas as pd\n",
    "import numpy as np\n",
    "import statsmodels.api as sm\n",
    "\n",
    "from auxiliary.occupation_data import *"
   ]
  },
  {
   "cell_type": "markdown",
   "metadata": {},
   "source": [
    "***"
   ]
  },
  {
   "cell_type": "markdown",
   "metadata": {},
   "source": [
    "#### Migration background\n",
    "According to the SOEP, a second-generation immigrant child is defined as an individual who isborn in Germany and whose mother and father were born abroad (indirect migration background).However, in this paper, we consider also 1.5 generation as in Scḧuller(2012), these 1.5 generation are who have foreign-born parents and are themselves foreign born but arrived in Germany before the age of 7 years (direct migration background). They received the same education system as well as their language skills in German also is same as native German\n",
    "\n",
    "#### Occupation classification\n",
    " In order to estimate the role of parental ethnic identity on immigrant children's occupational choice, we classify the job into professionals, blue-collar and white-collar workers, based on four-digit ISCO88 occupation code.\n",
    " Two dimensions of the skill concept are used in the definition of ISCO-88 groups: Skill level, which is a function of the range and complexity of the tasks involved, where the complexity of tasks has priority over the range; and skill-specialisation,which reflects type of knowledge applied, tools and equipment used, materials worked on, or with, and the nature of the goods and services produced. It should be emphasised that the focus in ISCO-88 is on the skills required to carry out the tasks and duties of an occupation and not on whether a worker in a particular occupation is more or less skilled than another worker in the same or other occupations. The design of the German school system places pupils into different secondary schooling tracks at around the age of 10 years and nearly determine the career track of pupils at young age when they choose to Realschule  Hauptschule or Gymnasium. The lower level Hauptschule , designed to prepare pupils for manual professions; the intermediate Realschule , which prepares students for administrative and lower white-collar jobs and finally the upper level Gymnasium (8 years) - the most prestigious - which prepares students for higher education. In this analysis, we will remove the choice of military. The sample consists of people in working age from 17 < age < 65\n",
    " \n",
    "#### Country of origin\n",
    "We distinguish group of ethnic origin as: native German (i.e., German-born grandparents) and other groups of the second generation: German, Turkish, Eastern Europe, Southern Europe, Anglo, Balkans, France-Benelux, Middle-east, Latin-American-Caribbean, Africa, Asia,  . We consider the father is the head of the household and have the most influence on household income as well as children's career decision. As a result, we distinguish which ethnic group of the second generation of immigrants belong to based on the country of origin of the father.\n"
   ]
  },
  {
   "cell_type": "code",
   "execution_count": 2,
   "metadata": {},
   "outputs": [],
   "source": [
    "final_df = pd.read_pickle(\"Final_data81.pkl\")\n",
    "\n",
    "# 2gen immigrant\n",
    "immig_2gen = final_df[final_df['gen2_migration']==1]\n",
    "\n",
    "# native\n",
    "nat_germ = final_df[final_df['gen2_migration']==0]"
   ]
  },
  {
   "cell_type": "markdown",
   "metadata": {},
   "source": [
    "## Regression\n",
    "\n",
    "Now we will take unique people in age between 30 - 50 and remove the choice of military as in this analysis we want to focus career choice on the level of skills of the occupation while military choice has no skills level implication\n",
    "\n",
    "$$ y_{c} = \\beta_0 +\\beta_1 gender + \\beta_2 country + \\beta_3 yearsEducation + \\beta_4 occupationalChange + \\beta_5 fulltimeExperience +\\epsilon $$"
   ]
  },
  {
   "cell_type": "code",
   "execution_count": 3,
   "metadata": {},
   "outputs": [],
   "source": [
    "#drop military as an occupational choice\n",
    "final_df = final_df[final_df['bioage'].between(30,50)]\n",
    "final_df = final_df.drop(final_df[final_df['isco88_choices']=='military'].index)\n",
    "\n",
    "#take unique id only\n",
    "final_df = final_df.sort_values(by=['pid','syear'])\n",
    "final_df.drop_duplicates(\"pid\", keep='last',inplace = True)"
   ]
  },
  {
   "cell_type": "code",
   "execution_count": 4,
   "metadata": {},
   "outputs": [],
   "source": [
    "co_list= ['Asia','Middle_East','Eastern_Europe','France_Benelux','Anglo','Latin_America_Caribbean','Africa','Scandinavia']\n",
    "#drop small country sample and no NA fulltime experience\n",
    "final_df = final_df.drop(final_df[(final_df['forigin_group'].isin(co_list))|(final_df['full_time_experience']<0)].index) "
   ]
  },
  {
   "cell_type": "markdown",
   "metadata": {},
   "source": [
    "#### Basic model\n",
    "\n",
    "As for some group of country origin the sample size is very small, now we just consider 5 big groups: German_native, German_group, South_Europe, Turkish_group, Balkans"
   ]
  },
  {
   "cell_type": "code",
   "execution_count": 5,
   "metadata": {},
   "outputs": [],
   "source": [
    "fifth_model = final_df[['isco88_choices','forigin_group','male',\"years_education\",'occupational_change',\"full_time_experience\"]]\n",
    "fifth_model = pd.get_dummies(fifth_model, columns=['forigin_group'],drop_first=True)\n",
    "\n",
    "X_5 = fifth_model.drop(['isco88_choices'], axis=1) \n",
    "y_5 = fifth_model['isco88_choices']\n",
    "#X_5.columns"
   ]
  },
  {
   "cell_type": "code",
   "execution_count": 6,
   "metadata": {},
   "outputs": [
    {
     "name": "stdout",
     "output_type": "stream",
     "text": [
      "Optimization terminated successfully.\n",
      "         Current function value: 1.238326\n",
      "         Iterations 6\n",
      "                          MNLogit Regression Results                          \n",
      "==============================================================================\n",
      "Dep. Variable:         isco88_choices   No. Observations:                26834\n",
      "Model:                        MNLogit   Df Residuals:                    26798\n",
      "Method:                           MLE   Df Model:                           32\n",
      "Date:                Fri, 08 Jan 2021   Pseudo R-squ.:                  0.1923\n",
      "Time:                        23:18:12   Log-Likelihood:                -33229.\n",
      "converged:                       True   LL-Null:                       -41139.\n",
      "Covariance Type:                  hc3   LLR p-value:                     0.000\n",
      "======================================================================================================\n",
      "         isco88_choices=elementary       coef    std err          z      P>|z|      [0.025      0.975]\n",
      "------------------------------------------------------------------------------------------------------\n",
      "const                                  0.4935      0.311      1.585      0.113      -0.117       1.104\n",
      "male                                  -1.6434      0.066    -24.742      0.000      -1.774      -1.513\n",
      "years_education                       -0.0339      0.007     -4.819      0.000      -0.048      -0.020\n",
      "occupational_change                    0.2233      0.038      5.924      0.000       0.149       0.297\n",
      "full_time_experience                  -0.0428      0.004    -12.036      0.000      -0.050      -0.036\n",
      "forigin_group_German_group             0.1034      0.370      0.279      0.780      -0.622       0.829\n",
      "forigin_group_German_native            0.0524      0.281      0.187      0.852      -0.498       0.603\n",
      "forigin_group_South_Europe            -0.0969      0.348     -0.279      0.780      -0.778       0.585\n",
      "forigin_group_Turkish_group           -0.0301      0.339     -0.089      0.929      -0.695       0.635\n",
      "------------------------------------------------------------------------------------------------------\n",
      "isco88_choices=professionals       coef    std err          z      P>|z|      [0.025      0.975]\n",
      "------------------------------------------------------------------------------------------------\n",
      "const                           -7.3099      0.321    -22.759      0.000      -7.939      -6.680\n",
      "male                            -1.2986      0.055    -23.524      0.000      -1.407      -1.190\n",
      "years_education                  0.6928      0.016     44.266      0.000       0.662       0.724\n",
      "occupational_change             -0.0956      0.034     -2.832      0.005      -0.162      -0.029\n",
      "full_time_experience            -0.0006      0.003     -0.200      0.841      -0.006       0.005\n",
      "forigin_group_German_group       0.1269      0.291      0.435      0.663      -0.444       0.698\n",
      "forigin_group_German_native     -0.1263      0.233     -0.542      0.588      -0.583       0.331\n",
      "forigin_group_South_Europe      -0.2810      0.300     -0.938      0.348      -0.868       0.306\n",
      "forigin_group_Turkish_group     -0.2993      0.304     -0.986      0.324      -0.894       0.296\n",
      "------------------------------------------------------------------------------------------------\n",
      " isco88_choices=technicians       coef    std err          z      P>|z|      [0.025      0.975]\n",
      "-----------------------------------------------------------------------------------------------\n",
      "const                          -2.0100      0.306     -6.572      0.000      -2.609      -1.411\n",
      "male                           -2.0944      0.051    -40.838      0.000      -2.195      -1.994\n",
      "years_education                 0.3272      0.014     23.843      0.000       0.300       0.354\n",
      "occupational_change            -0.1790      0.032     -5.566      0.000      -0.242      -0.116\n",
      "full_time_experience           -0.0107      0.003     -4.267      0.000      -0.016      -0.006\n",
      "forigin_group_German_group      0.4679      0.299      1.563      0.118      -0.119       1.055\n",
      "forigin_group_German_native     0.2801      0.242      1.156      0.247      -0.195       0.755\n",
      "forigin_group_South_Europe      0.3841      0.283      1.357      0.175      -0.171       0.939\n",
      "forigin_group_Turkish_group    -0.1425      0.299     -0.477      0.633      -0.728       0.443\n",
      "-----------------------------------------------------------------------------------------------\n",
      "isco88_choices=white_collar_worker       coef    std err          z      P>|z|      [0.025      0.975]\n",
      "------------------------------------------------------------------------------------------------------\n",
      "const                                  0.5555      0.268      2.071      0.038       0.030       1.081\n",
      "male                                  -2.6711      0.053    -50.548      0.000      -2.775      -2.568\n",
      "years_education                        0.1351      0.010     13.276      0.000       0.115       0.155\n",
      "occupational_change                    0.0006      0.031      0.018      0.986      -0.060       0.061\n",
      "full_time_experience                  -0.0259      0.003    -10.205      0.000      -0.031      -0.021\n",
      "forigin_group_German_group            -0.1621      0.298     -0.543      0.587      -0.747       0.423\n",
      "forigin_group_German_native           -0.0319      0.229     -0.140      0.889      -0.480       0.416\n",
      "forigin_group_South_Europe             0.0326      0.275      0.119      0.905      -0.506       0.571\n",
      "forigin_group_Turkish_group           -0.0919      0.278     -0.331      0.741      -0.637       0.453\n",
      "======================================================================================================\n"
     ]
    }
   ],
   "source": [
    "logit_model5 = sm.MNLogit(y_5,sm.add_constant(X_5))\n",
    "result5 = logit_model5.fit(cov_type=\"hc3\")\n",
    "stats5 = result5.summary()\n",
    "print(stats5)"
   ]
  },
  {
   "cell_type": "markdown",
   "metadata": {},
   "source": [
    "***"
   ]
  },
  {
   "cell_type": "markdown",
   "metadata": {},
   "source": [
    "### Second model\n",
    "\n",
    "Observing that the proportion of professional and technician increase through years while blue-collar jobs descrease, we now have the hypothesis that there might be a shift in career choice under impact of labor environment from 1984 to 2018(more job opportunites in service industry (white collar or professional) than manufacturing (blue-collar)). However, it is the limitation of this dataset that we don't have enough of observation in all group of ethnic through many periods, so in this analysis, we only have two groups of cohort: millenials generation who were born between 1981 to 1996 and who are not millenials. Millenials generation is generally marked by elevated usage of and familiarity with the Internet, mobile devices, and social media, which also have effects on education achievement and career choices."
   ]
  },
  {
   "cell_type": "code",
   "execution_count": 7,
   "metadata": {},
   "outputs": [],
   "source": [
    "sixth_model = final_df[['isco88_choices','forigin_group',\"millennials\",'male',\"years_education\",'occupational_change',\"full_time_experience\"]]\n",
    "sixth_model = pd.get_dummies(sixth_model, columns=['forigin_group'])\n",
    "\n",
    "sixth_model = cohort_effect_interaction(sixth_model)\n",
    "\n",
    "X_6 = sixth_model.drop(['isco88_choices',\"millennials\",'forigin_group_Balkans'], axis=1) \n",
    "y_6 = sixth_model['isco88_choices']\n",
    "#X_6.columns"
   ]
  },
  {
   "cell_type": "code",
   "execution_count": 8,
   "metadata": {},
   "outputs": [
    {
     "name": "stdout",
     "output_type": "stream",
     "text": [
      "Optimization terminated successfully.\n",
      "         Current function value: 1.236279\n",
      "         Iterations 7\n",
      "                          MNLogit Regression Results                          \n",
      "==============================================================================\n",
      "Dep. Variable:         isco88_choices   No. Observations:                26834\n",
      "Model:                        MNLogit   Df Residuals:                    26778\n",
      "Method:                           MLE   Df Model:                           52\n",
      "Date:                Fri, 08 Jan 2021   Pseudo R-squ.:                  0.1936\n",
      "Time:                        23:18:46   Log-Likelihood:                -33174.\n",
      "converged:                       True   LL-Null:                       -41139.\n",
      "Covariance Type:                  hc3   LLR p-value:                     0.000\n",
      "==========================================================================================================\n",
      "             isco88_choices=elementary       coef    std err          z      P>|z|      [0.025      0.975]\n",
      "----------------------------------------------------------------------------------------------------------\n",
      "const                                      0.6284      0.357      1.760      0.078      -0.071       1.328\n",
      "male                                      -1.5948      0.067    -23.653      0.000      -1.727      -1.463\n",
      "years_education                           -0.0454      0.008     -6.049      0.000      -0.060      -0.031\n",
      "occupational_change                        0.2173      0.038      5.765      0.000       0.143       0.291\n",
      "full_time_experience                      -0.0486      0.004    -12.914      0.000      -0.056      -0.041\n",
      "forigin_group_German_group                 0.0331      0.437      0.076      0.940      -0.823       0.889\n",
      "forigin_group_German_native                0.1688      0.329      0.513      0.608      -0.476       0.814\n",
      "forigin_group_South_Europe                 0.1305      0.395      0.330      0.741      -0.644       0.905\n",
      "forigin_group_Turkish_group                0.1931      0.388      0.497      0.619      -0.568       0.954\n",
      "millennialsforigin_group_Balkans           0.1246      0.644      0.193      0.847      -1.138       1.387\n",
      "millennialsforigin_group_German_native    -0.6875      0.136     -5.072      0.000      -0.953      -0.422\n",
      "millennialsforigin_group_German_group      0.4126      0.545      0.757      0.449      -0.655       1.480\n",
      "millennialsforigin_group_South_Europe     -1.2150      0.662     -1.835      0.067      -2.513       0.083\n",
      "millennialsforigin_group_Turkish_group    -0.9385      0.527     -1.781      0.075      -1.971       0.094\n",
      "----------------------------------------------------------------------------------------------------------\n",
      "          isco88_choices=professionals       coef    std err          z      P>|z|      [0.025      0.975]\n",
      "----------------------------------------------------------------------------------------------------------\n",
      "const                                     -7.3153      0.346    -21.148      0.000      -7.993      -6.637\n",
      "male                                      -1.3148      0.056    -23.607      0.000      -1.424      -1.206\n",
      "years_education                            0.6919      0.016     44.392      0.000       0.661       0.722\n",
      "occupational_change                       -0.0943      0.034     -2.789      0.005      -0.160      -0.028\n",
      "full_time_experience                       0.0016      0.003      0.531      0.595      -0.004       0.008\n",
      "forigin_group_German_group                -0.0249      0.334     -0.075      0.940      -0.679       0.629\n",
      "forigin_group_German_native               -0.1579      0.265     -0.595      0.552      -0.678       0.362\n",
      "forigin_group_South_Europe                -0.1894      0.337     -0.562      0.574      -0.850       0.471\n",
      "forigin_group_Turkish_group               -0.3349      0.338     -0.989      0.322      -0.998       0.329\n",
      "millennialsforigin_group_Balkans          -0.0728      0.529     -0.138      0.891      -1.109       0.963\n",
      "millennialsforigin_group_German_native     0.2327      0.098      2.365      0.018       0.040       0.426\n",
      "millennialsforigin_group_German_group      0.6018      0.407      1.480      0.139      -0.195       1.399\n",
      "millennialsforigin_group_South_Europe     -0.6645      0.528     -1.258      0.208      -1.699       0.370\n",
      "millennialsforigin_group_Turkish_group     0.1610      0.549      0.293      0.769      -0.915       1.237\n",
      "----------------------------------------------------------------------------------------------------------\n",
      "            isco88_choices=technicians       coef    std err          z      P>|z|      [0.025      0.975]\n",
      "----------------------------------------------------------------------------------------------------------\n",
      "const                                     -1.9303      0.328     -5.886      0.000      -2.573      -1.287\n",
      "male                                      -2.1135      0.052    -40.882      0.000      -2.215      -2.012\n",
      "years_education                            0.3262      0.014     23.900      0.000       0.299       0.353\n",
      "occupational_change                       -0.1793      0.032     -5.561      0.000      -0.243      -0.116\n",
      "full_time_experience                      -0.0084      0.003     -3.177      0.001      -0.014      -0.003\n",
      "forigin_group_German_group                 0.3629      0.333      1.090      0.275      -0.289       1.015\n",
      "forigin_group_German_native                0.1651      0.269      0.614      0.539      -0.362       0.692\n",
      "forigin_group_South_Europe                 0.2363      0.316      0.748      0.455      -0.383       0.856\n",
      "forigin_group_Turkish_group               -0.3859      0.335     -1.151      0.250      -1.043       0.271\n",
      "millennialsforigin_group_Balkans          -0.5584      0.621     -0.899      0.369      -1.776       0.659\n",
      "millennialsforigin_group_German_native     0.2689      0.092      2.930      0.003       0.089       0.449\n",
      "millennialsforigin_group_German_group      0.0135      0.451      0.030      0.976      -0.870       0.897\n",
      "millennialsforigin_group_South_Europe      0.2568      0.361      0.711      0.477      -0.451       0.965\n",
      "millennialsforigin_group_Turkish_group     0.7017      0.433      1.621      0.105      -0.147       1.550\n",
      "----------------------------------------------------------------------------------------------------------\n",
      "    isco88_choices=white_collar_worker       coef    std err          z      P>|z|      [0.025      0.975]\n",
      "----------------------------------------------------------------------------------------------------------\n",
      "const                                      0.4905      0.298      1.645      0.100      -0.094       1.075\n",
      "male                                      -2.6657      0.053    -50.065      0.000      -2.770      -2.561\n",
      "years_education                            0.1345      0.010     13.212      0.000       0.115       0.154\n",
      "occupational_change                       -0.0011      0.031     -0.034      0.973      -0.062       0.060\n",
      "full_time_experience                      -0.0268      0.003    -10.008      0.000      -0.032      -0.022\n",
      "forigin_group_German_group                -0.1735      0.341     -0.509      0.610      -0.841       0.494\n",
      "forigin_group_German_native                0.0665      0.262      0.253      0.800      -0.448       0.580\n",
      "forigin_group_South_Europe                 0.1676      0.313      0.535      0.592      -0.446       0.781\n",
      "forigin_group_Turkish_group               -0.1068      0.321     -0.333      0.739      -0.735       0.522\n",
      "millennialsforigin_group_Balkans           0.3161      0.531      0.596      0.551      -0.724       1.356\n",
      "millennialsforigin_group_German_native    -0.1385      0.094     -1.466      0.143      -0.324       0.047\n",
      "millennialsforigin_group_German_group      0.4167      0.465      0.897      0.370      -0.494       1.328\n",
      "millennialsforigin_group_South_Europe     -0.2738      0.386     -0.709      0.478      -1.030       0.483\n",
      "millennialsforigin_group_Turkish_group     0.4202      0.380      1.105      0.269      -0.325       1.165\n",
      "==========================================================================================================\n"
     ]
    }
   ],
   "source": [
    "logit_model6 = sm.MNLogit(y_6,sm.add_constant(X_6))\n",
    "result6 = logit_model6.fit(cov_type=\"hc3\")\n",
    "stats6 = result6.summary()\n",
    "print(stats6)"
   ]
  },
  {
   "cell_type": "code",
   "execution_count": null,
   "metadata": {},
   "outputs": [],
   "source": []
  }
 ],
 "metadata": {
  "kernelspec": {
   "display_name": "Python 3",
   "language": "python",
   "name": "python3"
  },
  "language_info": {
   "codemirror_mode": {
    "name": "ipython",
    "version": 3
   },
   "file_extension": ".py",
   "mimetype": "text/x-python",
   "name": "python",
   "nbconvert_exporter": "python",
   "pygments_lexer": "ipython3",
   "version": "3.7.7"
  }
 },
 "nbformat": 4,
 "nbformat_minor": 4
}
