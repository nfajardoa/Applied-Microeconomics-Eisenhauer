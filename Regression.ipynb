{
 "cells": [
  {
   "cell_type": "code",
   "execution_count": 1,
   "metadata": {},
   "outputs": [],
   "source": [
    "import matplotlib.pyplot as plt\n",
    "import seaborn as sns\n",
    "import pandas as pd\n",
    "import numpy as np\n",
    "import warnings\n",
    "from scipy import stats\n",
    "import statsmodels.api as sm\n",
    "from statsmodels.formula.api import logit, probit, poisson, ols"
   ]
  },
  {
   "cell_type": "code",
   "execution_count": 2,
   "metadata": {},
   "outputs": [],
   "source": [
    "import scipy as scp\n",
    "import sklearn\n",
    "\n",
    "from sklearn.model_selection import train_test_split\n",
    "from sklearn.linear_model import LogisticRegression\n",
    "from sklearn.metrics import classification_report\n",
    "from sklearn import metrics \n",
    "from sklearn.metrics import confusion_matrix"
   ]
  },
  {
   "cell_type": "markdown",
   "metadata": {},
   "source": [
    "# Load data"
   ]
  },
  {
   "cell_type": "code",
   "execution_count": 3,
   "metadata": {},
   "outputs": [],
   "source": [
    "occupation = pd.read_csv('occupation_data.csv')"
   ]
  },
  {
   "cell_type": "code",
   "execution_count": 5,
   "metadata": {},
   "outputs": [],
   "source": [
    "conditions = [occupation['country_origin']=='Germany',\n",
    "              occupation['country_origin']=='Turkey',\n",
    "              occupation['country_origin']=='Italy',\n",
    "              occupation['country_origin']== 'Former Yugo',\n",
    "              occupation['country_origin']== 'Other European',\n",
    "              occupation['country_origin']== 'Greece',\n",
    "              occupation['country_origin']== 'Poland',\n",
    "              occupation['country_origin']== 'Africa',\n",
    "              occupation['country_origin']== 'Eastern Europe',\n",
    "              occupation['country_origin']== 'Middle East',\n",
    "              occupation['country_origin']== 'Others'\n",
    "             ]\n",
    "choices  = [1, 2, 3, 4, 5, 6, 7, 8, 9, 10, 11]\n",
    "\n",
    "occupation['country'] =  np.select(conditions,choices,default=np.nan)"
   ]
  },
  {
   "cell_type": "code",
   "execution_count": 6,
   "metadata": {},
   "outputs": [],
   "source": [
    "migconditions = [occupation['migback']==1,\n",
    "              occupation['migback']==3]\n",
    "migchoices = [0, 1]\n",
    "occupation['migration'] =  np.select(migconditions,migchoices,default=np.nan)"
   ]
  },
  {
   "cell_type": "code",
   "execution_count": 7,
   "metadata": {},
   "outputs": [],
   "source": [
    "occupation['male'] = np.where(occupation['sex'] == 1, 1, 0)"
   ]
  },
  {
   "cell_type": "markdown",
   "metadata": {},
   "source": [
    "### Basic model"
   ]
  },
  {
   "cell_type": "markdown",
   "metadata": {},
   "source": [
    "$$ Occupation = Sex + bioage + country + migback*country + locchild$$"
   ]
  },
  {
   "cell_type": "code",
   "execution_count": 8,
   "metadata": {},
   "outputs": [],
   "source": [
    "basic = occupation[['occ_choices','male','bioage','country','migration','locchildh']]"
   ]
  },
  {
   "cell_type": "code",
   "execution_count": 9,
   "metadata": {},
   "outputs": [],
   "source": [
    "basic = basic[~basic['locchildh'].isna()]"
   ]
  },
  {
   "cell_type": "code",
   "execution_count": 10,
   "metadata": {},
   "outputs": [
    {
     "data": {
      "text/plain": [
       "(401873, 6)"
      ]
     },
     "execution_count": 10,
     "metadata": {},
     "output_type": "execute_result"
    }
   ],
   "source": [
    "basic.shape"
   ]
  },
  {
   "cell_type": "code",
   "execution_count": 11,
   "metadata": {},
   "outputs": [
    {
     "data": {
      "text/plain": [
       "white_collar       159816\n",
       "blue_collar         74133\n",
       "unemployed          71337\n",
       "self_employment     31083\n",
       "schooling           25308\n",
       "civil_servant       23609\n",
       "apprentice          14946\n",
       "military             1641\n",
       "Name: occ_choices, dtype: int64"
      ]
     },
     "execution_count": 11,
     "metadata": {},
     "output_type": "execute_result"
    }
   ],
   "source": [
    "basic['occ_choices'].value_counts()"
   ]
  },
  {
   "cell_type": "code",
   "execution_count": 12,
   "metadata": {},
   "outputs": [
    {
     "data": {
      "text/plain": [
       "0    210674\n",
       "1    191199\n",
       "Name: male, dtype: int64"
      ]
     },
     "execution_count": 12,
     "metadata": {},
     "output_type": "execute_result"
    }
   ],
   "source": [
    "basic['male'].value_counts()"
   ]
  },
  {
   "cell_type": "code",
   "execution_count": 13,
   "metadata": {},
   "outputs": [],
   "source": [
    "X = basic.drop('occ_choices', axis=1) \n",
    "y = basic['occ_choices']"
   ]
  },
  {
   "cell_type": "code",
   "execution_count": 16,
   "metadata": {},
   "outputs": [],
   "source": [
    "X_train, X_test, y_train, y_test = sklearn.model_selection.train_test_split(X, y, test_size = 0.20, random_state = 5)"
   ]
  },
  {
   "cell_type": "code",
   "execution_count": 17,
   "metadata": {},
   "outputs": [
    {
     "name": "stdout",
     "output_type": "stream",
     "text": [
      "Optimization terminated successfully.\n",
      "         Current function value: 1.449705\n",
      "         Iterations 10\n",
      "                          MNLogit Regression Results                          \n",
      "==============================================================================\n",
      "Dep. Variable:            occ_choices   No. Observations:               321498\n",
      "Model:                        MNLogit   Df Residuals:                   321456\n",
      "Method:                           MLE   Df Model:                           35\n",
      "Date:                Thu, 17 Dec 2020   Pseudo R-squ.:                  0.1313\n",
      "Time:                        21:08:25   Log-Likelihood:            -4.6608e+05\n",
      "converged:                       True   LL-Null:                   -5.3650e+05\n",
      "Covariance Type:            nonrobust   LLR p-value:                     0.000\n",
      "============================================================================================\n",
      "    occ_choices=blue_collar       coef    std err          z      P>|z|      [0.025      0.975]\n",
      "-----------------------------------------------------------------------------------------------\n",
      "const                          -6.6103      0.062   -106.595      0.000      -6.732      -6.489\n",
      "male                            0.7293      0.023     32.236      0.000       0.685       0.774\n",
      "bioage                          0.2614      0.002    119.789      0.000       0.257       0.266\n",
      "country                        -0.0127      0.011     -1.165      0.244      -0.034       0.009\n",
      "migration                      -0.0369      0.048     -0.768      0.442      -0.131       0.057\n",
      "locchildh                       0.1342      0.010     13.593      0.000       0.115       0.154\n",
      "-----------------------------------------------------------------------------------------------\n",
      "occ_choices=civil_servant       coef    std err          z      P>|z|      [0.025      0.975]\n",
      "---------------------------------------------------------------------------------------------\n",
      "const                        -7.7863      0.072   -108.470      0.000      -7.927      -7.646\n",
      "male                          0.3631      0.026     14.028      0.000       0.312       0.414\n",
      "bioage                        0.2844      0.002    126.590      0.000       0.280       0.289\n",
      "country                      -0.0983      0.025     -4.001      0.000      -0.146      -0.050\n",
      "migration                    -0.5918      0.088     -6.748      0.000      -0.764      -0.420\n",
      "locchildh                    -0.0859      0.011     -7.723      0.000      -0.108      -0.064\n",
      "---------------------------------------------------------------------------------------------\n",
      "occ_choices=military       coef    std err          z      P>|z|      [0.025      0.975]\n",
      "----------------------------------------------------------------------------------------\n",
      "const                   -2.6679      0.177    -15.070      0.000      -3.015      -2.321\n",
      "male                     1.4597      0.076     19.197      0.000       1.311       1.609\n",
      "bioage                  -0.0148      0.007     -2.248      0.025      -0.028      -0.002\n",
      "country                  0.0150      0.029      0.511      0.609      -0.043       0.073\n",
      "migration               -0.7047      0.135     -5.206      0.000      -0.970      -0.439\n",
      "locchildh               -0.0641      0.026     -2.495      0.013      -0.114      -0.014\n",
      "----------------------------------------------------------------------------------------\n",
      "occ_choices=schooling       coef    std err          z      P>|z|      [0.025      0.975]\n",
      "-----------------------------------------------------------------------------------------\n",
      "const                     0.5918      0.065      9.144      0.000       0.465       0.719\n",
      "male                     -0.1911      0.023     -8.249      0.000      -0.236      -0.146\n",
      "bioage                    0.0165      0.002      6.708      0.000       0.012       0.021\n",
      "country                   0.0250      0.009      2.701      0.007       0.007       0.043\n",
      "migration                -0.0928      0.043     -2.148      0.032      -0.177      -0.008\n",
      "locchildh                -0.1306      0.010    -12.795      0.000      -0.151      -0.111\n",
      "-----------------------------------------------------------------------------------------\n",
      "occ_choices=self_employment       coef    std err          z      P>|z|      [0.025      0.975]\n",
      "-----------------------------------------------------------------------------------------------\n",
      "const                          -8.6842      0.069   -126.742      0.000      -8.819      -8.550\n",
      "male                            0.4378      0.025     17.456      0.000       0.389       0.487\n",
      "bioage                          0.3035      0.002    135.804      0.000       0.299       0.308\n",
      "country                         0.0172      0.016      1.094      0.274      -0.014       0.048\n",
      "migration                      -0.1421      0.071     -2.011      0.044      -0.281      -0.004\n",
      "locchildh                      -0.0440      0.011     -4.078      0.000      -0.065      -0.023\n",
      "-----------------------------------------------------------------------------------------------\n",
      "occ_choices=unemployed       coef    std err          z      P>|z|      [0.025      0.975]\n",
      "------------------------------------------------------------------------------------------\n",
      "const                     -5.3892      0.061    -88.168      0.000      -5.509      -5.269\n",
      "male                      -1.1953      0.023    -52.289      0.000      -1.240      -1.150\n",
      "bioage                     0.2611      0.002    119.594      0.000       0.257       0.265\n",
      "country                    0.0168      0.010      1.697      0.090      -0.003       0.036\n",
      "migration                  0.3892      0.045      8.594      0.000       0.300       0.478\n",
      "locchildh                 -0.0063      0.010     -0.636      0.525      -0.026       0.013\n",
      "------------------------------------------------------------------------------------------\n",
      "occ_choices=white_collar       coef    std err          z      P>|z|      [0.025      0.975]\n",
      "--------------------------------------------------------------------------------------------\n",
      "const                       -4.9687      0.060    -83.249      0.000      -5.086      -4.852\n",
      "male                        -0.4484      0.022    -20.721      0.000      -0.491      -0.406\n",
      "bioage                       0.2687      0.002    123.862      0.000       0.264       0.273\n",
      "country                      0.0059      0.010      0.617      0.537      -0.013       0.025\n",
      "migration                   -0.0465      0.043     -1.076      0.282      -0.131       0.038\n",
      "locchildh                   -0.0588      0.009     -6.187      0.000      -0.077      -0.040\n",
      "============================================================================================\n"
     ]
    }
   ],
   "source": [
    "#Use statsmodels to assess variables\n",
    "\n",
    "logit_model=sm.MNLogit(y_train,sm.add_constant(X_train))\n",
    "result=logit_model.fit()\n",
    "stats1=result.summary()\n",
    "print(stats1)"
   ]
  },
  {
   "cell_type": "code",
   "execution_count": null,
   "metadata": {},
   "outputs": [],
   "source": []
  }
 ],
 "metadata": {
  "kernelspec": {
   "display_name": "Python 3",
   "language": "python",
   "name": "python3"
  },
  "language_info": {
   "codemirror_mode": {
    "name": "ipython",
    "version": 3
   },
   "file_extension": ".py",
   "mimetype": "text/x-python",
   "name": "python",
   "nbconvert_exporter": "python",
   "pygments_lexer": "ipython3",
   "version": "3.7.7"
  }
 },
 "nbformat": 4,
 "nbformat_minor": 4
}
