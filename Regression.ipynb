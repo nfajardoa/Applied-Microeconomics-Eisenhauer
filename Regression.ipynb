{
 "cells": [
  {
   "cell_type": "code",
   "execution_count": 1,
   "metadata": {},
   "outputs": [],
   "source": [
    "import matplotlib.pyplot as plt\n",
    "import seaborn as sns\n",
    "import pandas as pd\n",
    "import numpy as np"
   ]
  },
  {
   "cell_type": "code",
   "execution_count": 2,
   "metadata": {},
   "outputs": [],
   "source": [
    "import statsmodels.api as sm\n",
    "from sklearn.model_selection import train_test_split\n",
    "from sklearn.linear_model import LogisticRegression\n",
    "from sklearn.metrics import classification_report\n",
    "from sklearn import metrics \n",
    "from sklearn.metrics import confusion_matrix"
   ]
  },
  {
   "cell_type": "markdown",
   "metadata": {},
   "source": [
    "# Load data"
   ]
  },
  {
   "cell_type": "code",
   "execution_count": 3,
   "metadata": {},
   "outputs": [],
   "source": [
    "occupation = pd.read_csv('occupation_data.csv')"
   ]
  },
  {
   "cell_type": "code",
   "execution_count": 8,
   "metadata": {},
   "outputs": [
    {
     "data": {
      "text/plain": [
       "pid                    0\n",
       "occ_choices            0\n",
       "sex                    0\n",
       "bioage                 0\n",
       "country_origin         0\n",
       "migback                0\n",
       "fsedu              43817\n",
       "msedu              34246\n",
       "locchildh          25334\n",
       "fprofedu           43414\n",
       "mprofedu           41611\n",
       "fprofstat          76441\n",
       "mprofstat         172747\n",
       "dtype: int64"
      ]
     },
     "execution_count": 8,
     "metadata": {},
     "output_type": "execute_result"
    }
   ],
   "source": [
    "occupation.isna().sum()"
   ]
  },
  {
   "cell_type": "code",
   "execution_count": 7,
   "metadata": {},
   "outputs": [],
   "source": [
    "# Turn occupation, locchildh into dummy\n",
    "occupation_dm = pd.get_dummies(occupation, columns=['country_origin','locchildh'],drop_first=True,dummy_na=True)"
   ]
  },
  {
   "cell_type": "code",
   "execution_count": 9,
   "metadata": {},
   "outputs": [],
   "source": [
    "migconditions = [occupation_dm['migback']==1,\n",
    "              occupation_dm['migback']==3]\n",
    "migchoices = [0, 1]\n",
    "occupation_dm['migration'] =  np.select(migconditions,migchoices,default=np.nan)"
   ]
  },
  {
   "cell_type": "code",
   "execution_count": 7,
   "metadata": {},
   "outputs": [],
   "source": [
    "occupation_dm['male'] = np.where(occupation_dm['sex'] == 1, 1, 0)"
   ]
  },
  {
   "cell_type": "code",
   "execution_count": 8,
   "metadata": {},
   "outputs": [
    {
     "data": {
      "text/plain": [
       "pid                                   0\n",
       "occ_choices                           0\n",
       "sex                                   0\n",
       "bioage                                0\n",
       "migback                               0\n",
       "fsedu                             43817\n",
       "msedu                             34246\n",
       "fprofedu                          43414\n",
       "mprofedu                          41611\n",
       "fprofstat                         76441\n",
       "mprofstat                        172747\n",
       "country_origin_Eastern Europe         0\n",
       "country_origin_Former Yugo            0\n",
       "country_origin_Germany                0\n",
       "country_origin_Greece                 0\n",
       "country_origin_Italy                  0\n",
       "country_origin_Middle East            0\n",
       "country_origin_Other European         0\n",
       "country_origin_Others                 0\n",
       "country_origin_Poland                 0\n",
       "country_origin_Turkey                 0\n",
       "country_origin_nan                    0\n",
       "locchildh_2.0                         0\n",
       "locchildh_3.0                         0\n",
       "locchildh_4.0                         0\n",
       "locchildh_nan                         0\n",
       "migration                             0\n",
       "male                                  0\n",
       "dtype: int64"
      ]
     },
     "execution_count": 8,
     "metadata": {},
     "output_type": "execute_result"
    }
   ],
   "source": [
    "occupation_dm.isna().sum()"
   ]
  },
  {
   "cell_type": "code",
   "execution_count": 9,
   "metadata": {},
   "outputs": [],
   "source": [
    "occupation_dm = occupation_dm.rename(columns={\"country_origin_Eastern Europe\": \"Eastern_Europe\",\n",
    "                                             \"country_origin_Former Yugo\": \"Former_Yugo\",\n",
    "                                              \"country_origin_Germany\": \"Germany\",\n",
    "                                              \"country_origin_Greece\":\"Greece\",\n",
    "                                              \"country_origin_Italy\":\"Italy\",\n",
    "                                              \"country_origin_Middle East\":\"Middle_East\",\n",
    "                                              \"country_origin_Others\":\"Others\",\n",
    "                                              \"country_origin_Poland\":\"Poland\",\n",
    "                                              \"country_origin_Turkey\":\"Turkey\",\n",
    "                                              \"locchildh_2.0\": \"medium_city\",\n",
    "                                              \"locchildh_3.0\": \"small_city\",\n",
    "                                              \"locchildh_4.0\": \"countryside\"\n",
    "                                             })"
   ]
  },
  {
   "cell_type": "markdown",
   "metadata": {},
   "source": [
    "### Basic model"
   ]
  },
  {
   "cell_type": "markdown",
   "metadata": {},
   "source": [
    "$$ Occupation = Sex + bioage + country + migback*country + locchild$$"
   ]
  },
  {
   "cell_type": "code",
   "execution_count": 10,
   "metadata": {},
   "outputs": [],
   "source": [
    "basic = occupation_dm[occupation_dm['locchildh_nan']!=1]"
   ]
  },
  {
   "cell_type": "code",
   "execution_count": 11,
   "metadata": {},
   "outputs": [
    {
     "data": {
      "text/plain": [
       "Index(['pid', 'occ_choices', 'sex', 'bioage', 'migback', 'fsedu', 'msedu',\n",
       "       'fprofedu', 'mprofedu', 'fprofstat', 'mprofstat', 'Eastern_Europe',\n",
       "       'Former_Yugo', 'Germany', 'Greece', 'Italy', 'Middle_East',\n",
       "       'country_origin_Other European', 'Others', 'Poland', 'Turkey',\n",
       "       'country_origin_nan', 'medium_city', 'small_city', 'countryside',\n",
       "       'locchildh_nan', 'migration', 'male'],\n",
       "      dtype='object')"
      ]
     },
     "execution_count": 11,
     "metadata": {},
     "output_type": "execute_result"
    }
   ],
   "source": [
    "basic.columns"
   ]
  },
  {
   "cell_type": "code",
   "execution_count": 12,
   "metadata": {},
   "outputs": [],
   "source": [
    "basic = basic[['occ_choices','male','bioage',\"Turkey\",\"Eastern_Europe\",\"Former_Yugo\",\"Germany\",\"Greece\",\"Italy\",\"Middle_East\",\"Others\",\"Poland\",\"medium_city\",\"small_city\",\"countryside\",'migration']]"
   ]
  },
  {
   "cell_type": "code",
   "execution_count": 13,
   "metadata": {},
   "outputs": [],
   "source": [
    "basic['mig_german'] = basic['migration'] * basic['Germany']"
   ]
  },
  {
   "cell_type": "code",
   "execution_count": 14,
   "metadata": {},
   "outputs": [
    {
     "data": {
      "text/plain": [
       "white_collar          153146\n",
       "blue_collar            70889\n",
       "unemployed             64273\n",
       "training_schooling     40078\n",
       "self_employment        26691\n",
       "civil_servant          22140\n",
       "military                1637\n",
       "Name: occ_choices, dtype: int64"
      ]
     },
     "execution_count": 14,
     "metadata": {},
     "output_type": "execute_result"
    }
   ],
   "source": [
    "basic['occ_choices'].value_counts()"
   ]
  },
  {
   "cell_type": "code",
   "execution_count": 15,
   "metadata": {},
   "outputs": [
    {
     "data": {
      "text/plain": [
       "0    198726\n",
       "1    180128\n",
       "Name: male, dtype: int64"
      ]
     },
     "execution_count": 15,
     "metadata": {},
     "output_type": "execute_result"
    }
   ],
   "source": [
    "basic['male'].value_counts()"
   ]
  },
  {
   "cell_type": "code",
   "execution_count": 16,
   "metadata": {},
   "outputs": [
    {
     "data": {
      "text/plain": [
       "Index(['male', 'bioage', 'Turkey', 'Eastern_Europe', 'Former_Yugo', 'Germany',\n",
       "       'Greece', 'Italy', 'Middle_East', 'Others', 'Poland', 'medium_city',\n",
       "       'small_city', 'countryside', 'mig_german'],\n",
       "      dtype='object')"
      ]
     },
     "execution_count": 16,
     "metadata": {},
     "output_type": "execute_result"
    }
   ],
   "source": [
    "X = basic.drop(['occ_choices','migration'], axis=1) \n",
    "y = basic['occ_choices']\n",
    "X.columns"
   ]
  },
  {
   "cell_type": "code",
   "execution_count": 17,
   "metadata": {},
   "outputs": [
    {
     "data": {
      "text/plain": [
       "(378854, 15)"
      ]
     },
     "execution_count": 17,
     "metadata": {},
     "output_type": "execute_result"
    }
   ],
   "source": [
    "X.shape"
   ]
  },
  {
   "cell_type": "code",
   "execution_count": 13,
   "metadata": {},
   "outputs": [],
   "source": [
    "X_train, X_test, y_train, y_test = sklearn.model_selection.train_test_split(X, y, test_size = 0.20, random_state = 5)\n",
    "print(X_train.shape)\n",
    "print(X)"
   ]
  },
  {
   "cell_type": "code",
   "execution_count": 18,
   "metadata": {},
   "outputs": [
    {
     "name": "stdout",
     "output_type": "stream",
     "text": [
      "Warning: Maximum number of iterations has been exceeded.\n",
      "         Current function value: 1.367794\n",
      "         Iterations: 35\n"
     ]
    },
    {
     "name": "stderr",
     "output_type": "stream",
     "text": [
      "C:\\Users\\msduo\\.conda\\envs\\ScieComp\\lib\\site-packages\\statsmodels\\base\\model.py:566: ConvergenceWarning: Maximum Likelihood optimization failed to converge. Check mle_retvals\n",
      "  warnings.warn(\"Maximum Likelihood optimization failed to \"\n"
     ]
    },
    {
     "name": "stdout",
     "output_type": "stream",
     "text": [
      "                          MNLogit Regression Results                          \n",
      "==============================================================================\n",
      "Dep. Variable:            occ_choices   No. Observations:               378854\n",
      "Model:                        MNLogit   Df Residuals:                   378758\n",
      "Method:                           MLE   Df Model:                           90\n",
      "Date:                Sat, 19 Dec 2020   Pseudo R-squ.:                  0.1423\n",
      "Time:                        17:34:13   Log-Likelihood:            -5.1819e+05\n",
      "converged:                      False   LL-Null:                   -6.0417e+05\n",
      "Covariance Type:            nonrobust   LLR p-value:                     0.000\n",
      "============================================================================================\n",
      "     occ_choices=civil_servant       coef    std err          z      P>|z|      [0.025      0.975]\n",
      "--------------------------------------------------------------------------------------------------\n",
      "const                             -2.2749      0.151    -15.054      0.000      -2.571      -1.979\n",
      "male                              -0.4007      0.016    -24.928      0.000      -0.432      -0.369\n",
      "bioage                             0.0280      0.001     37.881      0.000       0.027       0.029\n",
      "Turkey                            -1.6745      0.271     -6.182      0.000      -2.205      -1.144\n",
      "Eastern_Europe                    -1.2926      0.739     -1.749      0.080      -2.741       0.156\n",
      "Former_Yugo                       -0.3276      0.221     -1.480      0.139      -0.761       0.106\n",
      "Germany                            0.5520      0.148      3.719      0.000       0.261       0.843\n",
      "Greece                            -2.4820      0.600     -4.137      0.000      -3.658      -1.306\n",
      "Italy                             -1.3370      0.302     -4.425      0.000      -1.929      -0.745\n",
      "Middle_East                      -19.9132   1.56e+04     -0.001      0.999   -3.06e+04    3.06e+04\n",
      "Others                            -0.0362      0.251     -0.144      0.885      -0.528       0.455\n",
      "Poland                            -0.1052      0.313     -0.337      0.736      -0.718       0.507\n",
      "medium_city                       -0.1250      0.024     -5.114      0.000      -0.173      -0.077\n",
      "small_city                        -0.2478      0.023    -10.685      0.000      -0.293      -0.202\n",
      "countryside                       -0.6483      0.021    -30.810      0.000      -0.690      -0.607\n",
      "mig_german                         0.3069      0.088      3.506      0.000       0.135       0.478\n",
      "--------------------------------------------------------------------------------------------------\n",
      "occ_choices=military       coef    std err          z      P>|z|      [0.025      0.975]\n",
      "----------------------------------------------------------------------------------------\n",
      "const                    4.0334      0.247     16.358      0.000       3.550       4.517\n",
      "male                     0.7258      0.068     10.711      0.000       0.593       0.859\n",
      "bioage                  -0.2880      0.006    -49.054      0.000      -0.299      -0.276\n",
      "Turkey                  -1.7106      0.339     -5.044      0.000      -2.375      -1.046\n",
      "Eastern_Europe          -0.4286      0.759     -0.565      0.572      -1.916       1.059\n",
      "Former_Yugo             -1.4443      0.381     -3.789      0.000      -2.192      -0.697\n",
      "Germany                  0.0123      0.206      0.060      0.952      -0.391       0.416\n",
      "Greece                  -1.3010      0.547     -2.379      0.017      -2.373      -0.229\n",
      "Italy                   -1.0383      0.370     -2.808      0.005      -1.763      -0.313\n",
      "Middle_East            -14.8624   1241.716     -0.012      0.990   -2448.581    2418.856\n",
      "Others                   0.0245      0.314      0.078      0.938      -0.591       0.640\n",
      "Poland                  -1.1072      0.551     -2.010      0.044      -2.187      -0.027\n",
      "medium_city             -0.2345      0.080     -2.924      0.003      -0.392      -0.077\n",
      "small_city              -0.2598      0.074     -3.499      0.000      -0.405      -0.114\n",
      "countryside             -0.5896      0.071     -8.348      0.000      -0.728      -0.451\n",
      "mig_german               0.1647      0.145      1.138      0.255      -0.119       0.448\n",
      "----------------------------------------------------------------------------------------\n",
      "occ_choices=self_employment       coef    std err          z      P>|z|      [0.025      0.975]\n",
      "-----------------------------------------------------------------------------------------------\n",
      "const                          -1.7823      0.113    -15.841      0.000      -2.003      -1.562\n",
      "male                           -0.3531      0.015    -23.396      0.000      -0.383      -0.324\n",
      "bioage                          0.0348      0.001     49.967      0.000       0.033       0.036\n",
      "Turkey                         -0.6791      0.149     -4.548      0.000      -0.972      -0.386\n",
      "Eastern_Europe                  0.2975      0.286      1.042      0.298      -0.262       0.857\n",
      "Former_Yugo                    -0.9663      0.190     -5.075      0.000      -1.340      -0.593\n",
      "Germany                        -0.1280      0.109     -1.172      0.241      -0.342       0.086\n",
      "Greece                          0.4375      0.159      2.757      0.006       0.127       0.748\n",
      "Italy                          -0.4012      0.164     -2.445      0.014      -0.723      -0.080\n",
      "Middle_East                     1.1832      0.423      2.795      0.005       0.354       2.013\n",
      "Others                         -0.1553      0.190     -0.819      0.413      -0.527       0.217\n",
      "Poland                         -1.2551      0.348     -3.607      0.000      -1.937      -0.573\n",
      "medium_city                    -0.2583      0.024    -10.890      0.000      -0.305      -0.212\n",
      "small_city                     -0.2294      0.022    -10.501      0.000      -0.272      -0.187\n",
      "countryside                    -0.5134      0.020    -26.303      0.000      -0.552      -0.475\n",
      "mig_german                      0.2869      0.085      3.357      0.001       0.119       0.454\n",
      "-----------------------------------------------------------------------------------------------\n",
      "occ_choices=training_schooling       coef    std err          z      P>|z|      [0.025      0.975]\n",
      "--------------------------------------------------------------------------------------------------\n",
      "const                              8.0203      0.083     96.803      0.000       7.858       8.183\n",
      "male                              -0.8826      0.016    -56.228      0.000      -0.913      -0.852\n",
      "bioage                            -0.2675      0.001   -194.306      0.000      -0.270      -0.265\n",
      "Turkey                            -0.4127      0.091     -4.530      0.000      -0.591      -0.234\n",
      "Eastern_Europe                     0.2781      0.220      1.267      0.205      -0.152       0.708\n",
      "Former_Yugo                       -0.4992      0.104     -4.804      0.000      -0.703      -0.296\n",
      "Germany                           -0.1814      0.076     -2.401      0.016      -0.330      -0.033\n",
      "Greece                            -0.1503      0.124     -1.216      0.224      -0.393       0.092\n",
      "Italy                             -0.3606      0.106     -3.405      0.001      -0.568      -0.153\n",
      "Middle_East                        1.0510      0.319      3.298      0.001       0.426       1.676\n",
      "Others                             0.1931      0.117      1.654      0.098      -0.036       0.422\n",
      "Poland                             0.0548      0.141      0.390      0.697      -0.221       0.331\n",
      "medium_city                       -0.1922      0.024     -7.919      0.000      -0.240      -0.145\n",
      "small_city                        -0.2747      0.023    -12.062      0.000      -0.319      -0.230\n",
      "countryside                       -0.6424      0.021    -30.156      0.000      -0.684      -0.601\n",
      "mig_german                         0.3658      0.056      6.490      0.000       0.255       0.476\n",
      "--------------------------------------------------------------------------------------------------\n",
      "occ_choices=unemployed       coef    std err          z      P>|z|      [0.025      0.975]\n",
      "------------------------------------------------------------------------------------------\n",
      "const                      2.1507      0.074     28.935      0.000       2.005       2.296\n",
      "male                      -1.9041      0.012   -155.738      0.000      -1.928      -1.880\n",
      "bioage                    -0.0143      0.001    -27.103      0.000      -0.015      -0.013\n",
      "Turkey                    -0.2028      0.087     -2.319      0.020      -0.374      -0.031\n",
      "Eastern_Europe            -0.3161      0.225     -1.404      0.160      -0.757       0.125\n",
      "Former_Yugo               -0.2854      0.101     -2.832      0.005      -0.483      -0.088\n",
      "Germany                   -0.5545      0.072     -7.729      0.000      -0.695      -0.414\n",
      "Greece                    -0.5832      0.122     -4.783      0.000      -0.822      -0.344\n",
      "Italy                     -0.7053      0.106     -6.663      0.000      -0.913      -0.498\n",
      "Middle_East                1.7240      0.315      5.480      0.000       1.107       2.341\n",
      "Others                     0.3097      0.113      2.740      0.006       0.088       0.531\n",
      "Poland                    -0.1896      0.144     -1.320      0.187      -0.471       0.092\n",
      "medium_city               -0.1650      0.019     -8.779      0.000      -0.202      -0.128\n",
      "small_city                -0.2046      0.018    -11.656      0.000      -0.239      -0.170\n",
      "countryside               -0.4407      0.016    -28.072      0.000      -0.471      -0.410\n",
      "mig_german                 0.6805      0.056     12.136      0.000       0.571       0.790\n",
      "------------------------------------------------------------------------------------------\n",
      "occ_choices=white_collar       coef    std err          z      P>|z|      [0.025      0.975]\n",
      "--------------------------------------------------------------------------------------------\n",
      "const                        1.5052      0.069     21.968      0.000       1.371       1.639\n",
      "male                        -1.2042      0.010   -123.754      0.000      -1.223      -1.185\n",
      "bioage                       0.0097      0.000     22.380      0.000       0.009       0.011\n",
      "Turkey                      -0.6660      0.084     -7.948      0.000      -0.830      -0.502\n",
      "Eastern_Europe               0.2463      0.191      1.287      0.198      -0.129       0.621\n",
      "Former_Yugo                 -0.2766      0.093     -2.971      0.003      -0.459      -0.094\n",
      "Germany                     -0.1343      0.067     -2.019      0.044      -0.265      -0.004\n",
      "Greece                      -0.1320      0.107     -1.237      0.216      -0.341       0.077\n",
      "Italy                       -0.1314      0.092     -1.425      0.154      -0.312       0.049\n",
      "Middle_East                  1.2794      0.314      4.078      0.000       0.665       1.894\n",
      "Others                       0.1208      0.108      1.119      0.263      -0.091       0.333\n",
      "Poland                       0.0178      0.132      0.135      0.892      -0.240       0.276\n",
      "medium_city                 -0.2017      0.016    -12.914      0.000      -0.232      -0.171\n",
      "small_city                  -0.2554      0.015    -17.513      0.000      -0.284      -0.227\n",
      "countryside                 -0.5948      0.013    -45.799      0.000      -0.620      -0.569\n",
      "mig_german                   0.4649      0.051      9.040      0.000       0.364       0.566\n",
      "============================================================================================\n"
     ]
    }
   ],
   "source": [
    "#Use statsmodels to assess variables\n",
    "\n",
    "logit_model=sm.MNLogit(y,sm.add_constant(X))\n",
    "result=logit_model.fit()\n",
    "stats1=result.summary()\n",
    "print(stats1)"
   ]
  },
  {
   "cell_type": "code",
   "execution_count": null,
   "metadata": {},
   "outputs": [],
   "source": []
  }
 ],
 "metadata": {
  "kernelspec": {
   "display_name": "Python 3",
   "language": "python",
   "name": "python3"
  },
  "language_info": {
   "codemirror_mode": {
    "name": "ipython",
    "version": 3
   },
   "file_extension": ".py",
   "mimetype": "text/x-python",
   "name": "python",
   "nbconvert_exporter": "python",
   "pygments_lexer": "ipython3",
   "version": "3.8.5"
  }
 },
 "nbformat": 4,
 "nbformat_minor": 4
}
